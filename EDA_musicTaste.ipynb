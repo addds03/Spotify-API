{
 "metadata": {
  "language_info": {
   "codemirror_mode": {
    "name": "ipython",
    "version": 3
   },
   "file_extension": ".py",
   "mimetype": "text/x-python",
   "name": "python",
   "nbconvert_exporter": "python",
   "pygments_lexer": "ipython3",
   "version": "3.8.5"
  },
  "orig_nbformat": 2,
  "kernelspec": {
   "name": "python385jvsc74a57bd0dca0ade3e726a953b501b15e8e990130d2b7799f14cfd9f4271676035ebe5511",
   "display_name": "Python 3.8.5 64-bit ('base': conda)"
  }
 },
 "nbformat": 4,
 "nbformat_minor": 2,
 "cells": [
  {
   "cell_type": "code",
   "execution_count": 2,
   "metadata": {},
   "outputs": [],
   "source": [
    "import pandas as pd\n",
    "import matplotlib.pyplot as plt\n",
    "import numpy as np\n",
    "pd.options.mode.chained_assignment = None\n",
    "\n",
    "import plotly.express as px\n",
    "import plotly.graph_objects as go\n",
    "from plotly.subplots import make_subplots"
   ]
  },
  {
   "cell_type": "code",
   "execution_count": 8,
   "metadata": {},
   "outputs": [],
   "source": [
    "#df_streams = pd.read_csv('../MyData/mystreams.csv')\n",
    "df_audiofeatures = pd.read_csv('../MyData/audio_features.csv')\n",
    "df_track_ids = pd.read_csv('../MyData/track_id.csv')"
   ]
  },
  {
   "cell_type": "code",
   "execution_count": 6,
   "metadata": {},
   "outputs": [
    {
     "output_type": "execute_result",
     "data": {
      "text/plain": [
       "                       id  danceability  energy  key   loud  mode  speech  \\\n",
       "0  3e9VtBXljd8vNUT5dMq62w         0.596   0.740  8.0 -6.127   1.0  0.0338   \n",
       "1  51Fjme0JiitpyXKuyQiCDo         0.843   0.390  2.0 -7.899   1.0  0.0846   \n",
       "2  3ee8Jmje8o58CHK66QrVC2         0.740   0.613  8.0 -4.880   1.0  0.1450   \n",
       "3  3yOlyBJuViE2YSGn3nVE1K         0.724   0.491  8.0 -6.024   1.0  0.0296   \n",
       "4  21jGcNKet2qwijlDFuPiPb         0.695   0.762  0.0 -3.497   1.0  0.0395   \n",
       "\n",
       "   acoustics  instrumentals  liveness  valence    tempo  \n",
       "0      0.341       0.000021    0.1020    0.493  118.031  \n",
       "1      0.178       0.000000    0.1370    0.495  129.972  \n",
       "2      0.258       0.003720    0.1230    0.473   75.023  \n",
       "3      0.018       0.000013    0.0887    0.383  105.046  \n",
       "4      0.192       0.002440    0.0863    0.553  120.042  "
      ],
      "text/html": "<div>\n<style scoped>\n    .dataframe tbody tr th:only-of-type {\n        vertical-align: middle;\n    }\n\n    .dataframe tbody tr th {\n        vertical-align: top;\n    }\n\n    .dataframe thead th {\n        text-align: right;\n    }\n</style>\n<table border=\"1\" class=\"dataframe\">\n  <thead>\n    <tr style=\"text-align: right;\">\n      <th></th>\n      <th>id</th>\n      <th>danceability</th>\n      <th>energy</th>\n      <th>key</th>\n      <th>loud</th>\n      <th>mode</th>\n      <th>speech</th>\n      <th>acoustics</th>\n      <th>instrumentals</th>\n      <th>liveness</th>\n      <th>valence</th>\n      <th>tempo</th>\n    </tr>\n  </thead>\n  <tbody>\n    <tr>\n      <th>0</th>\n      <td>3e9VtBXljd8vNUT5dMq62w</td>\n      <td>0.596</td>\n      <td>0.740</td>\n      <td>8.0</td>\n      <td>-6.127</td>\n      <td>1.0</td>\n      <td>0.0338</td>\n      <td>0.341</td>\n      <td>0.000021</td>\n      <td>0.1020</td>\n      <td>0.493</td>\n      <td>118.031</td>\n    </tr>\n    <tr>\n      <th>1</th>\n      <td>51Fjme0JiitpyXKuyQiCDo</td>\n      <td>0.843</td>\n      <td>0.390</td>\n      <td>2.0</td>\n      <td>-7.899</td>\n      <td>1.0</td>\n      <td>0.0846</td>\n      <td>0.178</td>\n      <td>0.000000</td>\n      <td>0.1370</td>\n      <td>0.495</td>\n      <td>129.972</td>\n    </tr>\n    <tr>\n      <th>2</th>\n      <td>3ee8Jmje8o58CHK66QrVC2</td>\n      <td>0.740</td>\n      <td>0.613</td>\n      <td>8.0</td>\n      <td>-4.880</td>\n      <td>1.0</td>\n      <td>0.1450</td>\n      <td>0.258</td>\n      <td>0.003720</td>\n      <td>0.1230</td>\n      <td>0.473</td>\n      <td>75.023</td>\n    </tr>\n    <tr>\n      <th>3</th>\n      <td>3yOlyBJuViE2YSGn3nVE1K</td>\n      <td>0.724</td>\n      <td>0.491</td>\n      <td>8.0</td>\n      <td>-6.024</td>\n      <td>1.0</td>\n      <td>0.0296</td>\n      <td>0.018</td>\n      <td>0.000013</td>\n      <td>0.0887</td>\n      <td>0.383</td>\n      <td>105.046</td>\n    </tr>\n    <tr>\n      <th>4</th>\n      <td>21jGcNKet2qwijlDFuPiPb</td>\n      <td>0.695</td>\n      <td>0.762</td>\n      <td>0.0</td>\n      <td>-3.497</td>\n      <td>1.0</td>\n      <td>0.0395</td>\n      <td>0.192</td>\n      <td>0.002440</td>\n      <td>0.0863</td>\n      <td>0.553</td>\n      <td>120.042</td>\n    </tr>\n  </tbody>\n</table>\n</div>"
     },
     "metadata": {},
     "execution_count": 6
    }
   ],
   "source": [
    "df_audiofeatures.head()"
   ]
  },
  {
   "cell_type": "code",
   "execution_count": 9,
   "metadata": {},
   "outputs": [
    {
     "output_type": "execute_result",
     "data": {
      "text/plain": [
       "              end_time     artist_name               track_name  \\\n",
       "0  2020-05-14 21:52:00     OneRepublic                Apologize   \n",
       "1  2020-05-14 21:55:00             Y2K                   Lalala   \n",
       "2  2020-05-14 21:58:00    XXXTENTACION                     SAD!   \n",
       "3  2020-05-15 01:13:00  Camila Cabello  My Oh My (feat. DaBaby)   \n",
       "4  2020-05-15 01:17:00     Post Malone                  Circles   \n",
       "\n",
       "   milliseconds_played  minutes_played        date      time       day month  \\\n",
       "0               188270            3.14  2020-05-14  21:52:00  Thursday   May   \n",
       "1               160626            2.68  2020-05-14  21:55:00  Thursday   May   \n",
       "2                99880            1.66  2020-05-14  21:58:00  Thursday   May   \n",
       "3               170746            2.85  2020-05-15  01:13:00    Friday   May   \n",
       "4               215280            3.59  2020-05-15  01:17:00    Friday   May   \n",
       "\n",
       "                 track_id  \n",
       "0  3e9VtBXljd8vNUT5dMq62w  \n",
       "1  51Fjme0JiitpyXKuyQiCDo  \n",
       "2  3ee8Jmje8o58CHK66QrVC2  \n",
       "3  3yOlyBJuViE2YSGn3nVE1K  \n",
       "4  21jGcNKet2qwijlDFuPiPb  "
      ],
      "text/html": "<div>\n<style scoped>\n    .dataframe tbody tr th:only-of-type {\n        vertical-align: middle;\n    }\n\n    .dataframe tbody tr th {\n        vertical-align: top;\n    }\n\n    .dataframe thead th {\n        text-align: right;\n    }\n</style>\n<table border=\"1\" class=\"dataframe\">\n  <thead>\n    <tr style=\"text-align: right;\">\n      <th></th>\n      <th>end_time</th>\n      <th>artist_name</th>\n      <th>track_name</th>\n      <th>milliseconds_played</th>\n      <th>minutes_played</th>\n      <th>date</th>\n      <th>time</th>\n      <th>day</th>\n      <th>month</th>\n      <th>track_id</th>\n    </tr>\n  </thead>\n  <tbody>\n    <tr>\n      <th>0</th>\n      <td>2020-05-14 21:52:00</td>\n      <td>OneRepublic</td>\n      <td>Apologize</td>\n      <td>188270</td>\n      <td>3.14</td>\n      <td>2020-05-14</td>\n      <td>21:52:00</td>\n      <td>Thursday</td>\n      <td>May</td>\n      <td>3e9VtBXljd8vNUT5dMq62w</td>\n    </tr>\n    <tr>\n      <th>1</th>\n      <td>2020-05-14 21:55:00</td>\n      <td>Y2K</td>\n      <td>Lalala</td>\n      <td>160626</td>\n      <td>2.68</td>\n      <td>2020-05-14</td>\n      <td>21:55:00</td>\n      <td>Thursday</td>\n      <td>May</td>\n      <td>51Fjme0JiitpyXKuyQiCDo</td>\n    </tr>\n    <tr>\n      <th>2</th>\n      <td>2020-05-14 21:58:00</td>\n      <td>XXXTENTACION</td>\n      <td>SAD!</td>\n      <td>99880</td>\n      <td>1.66</td>\n      <td>2020-05-14</td>\n      <td>21:58:00</td>\n      <td>Thursday</td>\n      <td>May</td>\n      <td>3ee8Jmje8o58CHK66QrVC2</td>\n    </tr>\n    <tr>\n      <th>3</th>\n      <td>2020-05-15 01:13:00</td>\n      <td>Camila Cabello</td>\n      <td>My Oh My (feat. DaBaby)</td>\n      <td>170746</td>\n      <td>2.85</td>\n      <td>2020-05-15</td>\n      <td>01:13:00</td>\n      <td>Friday</td>\n      <td>May</td>\n      <td>3yOlyBJuViE2YSGn3nVE1K</td>\n    </tr>\n    <tr>\n      <th>4</th>\n      <td>2020-05-15 01:17:00</td>\n      <td>Post Malone</td>\n      <td>Circles</td>\n      <td>215280</td>\n      <td>3.59</td>\n      <td>2020-05-15</td>\n      <td>01:17:00</td>\n      <td>Friday</td>\n      <td>May</td>\n      <td>21jGcNKet2qwijlDFuPiPb</td>\n    </tr>\n  </tbody>\n</table>\n</div>"
     },
     "metadata": {},
     "execution_count": 9
    }
   ],
   "source": [
    "df_track_ids.head()"
   ]
  },
  {
   "cell_type": "code",
   "execution_count": null,
   "metadata": {},
   "outputs": [],
   "source": []
  }
 ]
}