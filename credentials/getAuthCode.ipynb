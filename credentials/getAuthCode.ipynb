{
 "metadata": {
  "language_info": {
   "codemirror_mode": {
    "name": "ipython",
    "version": 3
   },
   "file_extension": ".py",
   "mimetype": "text/x-python",
   "name": "python",
   "nbconvert_exporter": "python",
   "pygments_lexer": "ipython3",
   "version": "3.8.5"
  },
  "orig_nbformat": 2,
  "kernelspec": {
   "name": "python385jvsc74a57bd0dca0ade3e726a953b501b15e8e990130d2b7799f14cfd9f4271676035ebe5511",
   "display_name": "Python 3.8.5 64-bit ('base': conda)"
  }
 },
 "nbformat": 4,
 "nbformat_minor": 2,
 "cells": [
  {
   "cell_type": "code",
   "execution_count": 2,
   "metadata": {},
   "outputs": [],
   "source": [
    "import requests as req\n",
    "import json"
   ]
  },
  {
   "cell_type": "code",
   "execution_count": 29,
   "metadata": {},
   "outputs": [],
   "source": [
    "auth_url = 'https://accounts.spotify.com/authorize'\n",
    "\n",
    "client_id = 'f6809b3b21a44a2b9279c36507f78c15'\n",
    "response_type = 'code'\n",
    "redirect_uri = 'https://addds03.github.io/Addy-Portfolio/'\n",
    "scope = 'user-read-recently-played'\n",
    "\n",
    "query = f'?client_id={client_id}&response_type={response_type}&redirect_uri={redirect_uri}&scope={scope}'\n",
    "\n",
    "r = req.get(f'{auth_url}{query}')\n"
   ]
  },
  {
   "cell_type": "code",
   "execution_count": 28,
   "metadata": {},
   "outputs": [
    {
     "output_type": "execute_result",
     "data": {
      "text/plain": [
       "'https://accounts.spotify.com/login?continue=https%3A%2F%2Faccounts.spotify.com%2Fauthorize%3Fscope%3Duser-read-recently-played%26response_type%3Dcode%26redirect_uri%3Dhttps%253A%252F%252Faddds03.github.io%252FAddy-Portfolio%252F%26client_id%3Df6809b3b21a44a2b9279c36507f78c15'"
      ]
     },
     "metadata": {},
     "execution_count": 28
    }
   ],
   "source": [
    "r.url"
   ]
  },
  {
   "cell_type": "code",
   "execution_count": 23,
   "metadata": {},
   "outputs": [],
   "source": [
    "auth_code= 'AQAP-eIQqwTw-CVTE1GXBiZPelOcKowKrwtLu-3hNkzNuq6hthqKnMi37HQoxFnBTPvnbnzzsyOSWHEOlfqe2gittu32XHCYLUetocb2430a8j37-a17SmW51kr3q7jiWTx2iYH-LH8bC3hCWKwv9gTuE7756gyJP1LayRPaElr2e5MsI6PNxzSZ4Zp6FvHLjzlIN4VlQ-bfaxXQznQmotQvRIJBI8ja'"
   ]
  }
 ]
}