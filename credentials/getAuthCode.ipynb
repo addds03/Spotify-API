{
 "metadata": {
  "language_info": {
   "codemirror_mode": {
    "name": "ipython",
    "version": 3
   },
   "file_extension": ".py",
   "mimetype": "text/x-python",
   "name": "python",
   "nbconvert_exporter": "python",
   "pygments_lexer": "ipython3",
   "version": "3.8.5"
  },
  "orig_nbformat": 2,
  "kernelspec": {
   "name": "python385jvsc74a57bd0dca0ade3e726a953b501b15e8e990130d2b7799f14cfd9f4271676035ebe5511",
   "display_name": "Python 3.8.5 64-bit ('base': conda)"
  }
 },
 "nbformat": 4,
 "nbformat_minor": 2,
 "cells": [
  {
   "cell_type": "code",
   "execution_count": 1,
   "metadata": {},
   "outputs": [],
   "source": [
    "import requests as req\n",
    "import json"
   ]
  },
  {
   "cell_type": "code",
   "execution_count": 2,
   "metadata": {},
   "outputs": [],
   "source": [
    "auth_url = 'https://accounts.spotify.com/authorize'\n",
    "\n",
    "client_id = 'f6809b3b21a44a2b9279c36507f78c15'\n",
    "response_type = 'code'\n",
    "\n",
    "redirect_uri = 'https://addds03.github.io/Addy-Portfolio/'\n",
    "\n",
    "query = f'?client_id={client_id}&response_type={response_type}&redirect_uri={redirect_uri}'\n",
    "\n",
    "r = req.get(f'{auth_url}{query}')\n"
   ]
  },
  {
   "cell_type": "code",
   "execution_count": 23,
   "metadata": {},
   "outputs": [],
   "source": [
    "auth_code= 'AQDcVZSDksNVtsKdmzsx2gAHxOlHsK9_U0WhJ0GzyV7G1fw7MoVSAMUE9Rvsf_LCqDvO5ngP54UqorkmE5xEYo8-YNW7unIlkwGzF9DbeLXSdIBvQmCHniveT7j9FHYYlqzzDiFW2K4QuwOOObcAVMDVKVIwti4PNsW9vRGv1TXT6QWGfab6_zN9oHCy'"
   ]
  },
  {
   "cell_type": "code",
   "execution_count": 4,
   "metadata": {},
   "outputs": [
    {
     "output_type": "execute_result",
     "data": {
      "text/plain": [
       "'https://accounts.spotify.com/authorize?client_id=f6809b3b21a44a2b9279c36507f78c15&response_type=code&redirect_uri=https://addds03.github.io/Addy-Portfolio/'"
      ]
     },
     "metadata": {},
     "execution_count": 4
    }
   ],
   "source": [
    "f'{auth_url}{query}' user-read-recently-played"
   ]
  },
  {
   "cell_type": "code",
   "execution_count": null,
   "metadata": {},
   "outputs": [],
   "source": [
    "https://addds03.github.io/Addy-Portfolio/?code=AQBguKiSIm83nTKfFADqX7_UNUXLUB7y3go3iXp4-StMk9RmPMUWsmfJxdFsUqRCnodAXHe8klCU_pmNX2rwiu7GV8dj_ABf9sVn78GtuOR5T7B0a-MLF2PnwsLwy9mdqCM-L-_IMkNPiBTWXJCK4sMmatIr0xgn5Qmvdiif0RfpnBil3BEHkCMNqoD-"
   ]
  }
 ]
}